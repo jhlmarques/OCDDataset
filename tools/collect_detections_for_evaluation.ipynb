{
 "cells": [
  {
   "cell_type": "markdown",
   "metadata": {},
   "source": [
    "## Model Detection Collection\n",
    "\n",
    "Collects predicted bounding boxes of each trained model on each image of the test set for further evaluation"
   ]
  },
  {
   "cell_type": "code",
   "execution_count": 1,
   "metadata": {},
   "outputs": [
    {
     "name": "stderr",
     "output_type": "stream",
     "text": [
      "/home/jose/miniconda3/envs/OCD/lib/python3.8/site-packages/tqdm/auto.py:21: TqdmWarning: IProgress not found. Please update jupyter and ipywidgets. See https://ipywidgets.readthedocs.io/en/stable/user_install.html\n",
      "  from .autonotebook import tqdm as notebook_tqdm\n"
     ]
    }
   ],
   "source": [
    "import pandas as pd\n",
    "import pathlib\n",
    "import os\n",
    "import mmcv\n",
    "from mmdet.apis import inference_detector, init_detector\n",
    "import pathlib\n",
    "from tqdm import tqdm\n",
    "import torch\n",
    "\n",
    "from mmrotate.registry import VISUALIZERS, DATASETS\n",
    "from mmengine.config import Config\n",
    "\n",
    "from mmrotate.utils import register_all_modules"
   ]
  },
  {
   "cell_type": "code",
   "execution_count": 2,
   "metadata": {},
   "outputs": [],
   "source": [
    "PATH_IMAGES = '/home/jose/Programas/OCDDataset/mmrotate-1.x/data/OCD/test/images'\n",
    "PATH_CONFIGS = '/home/jose/Programas/OCDDataset/mmrotate-1.x/configs/OCD-Cropped'\n",
    "PATH_WORKDIRS = '/home/jose/Programas/OCDDataset/mmrotate-1.x/work_dirs'\n",
    "PATH_OUTPUTS = '/home/jose/Programas/OCDDataset/detection_outputs'"
   ]
  },
  {
   "cell_type": "markdown",
   "metadata": {},
   "source": [
    "### Inference"
   ]
  },
  {
   "cell_type": "markdown",
   "metadata": {},
   "source": [
    "Collect configs for all trained models"
   ]
  },
  {
   "cell_type": "code",
   "execution_count": 3,
   "metadata": {},
   "outputs": [
    {
     "name": "stdout",
     "output_type": "stream",
     "text": [
      "Found 13 trained models\n"
     ]
    }
   ],
   "source": [
    "list_models = []\n",
    "for config in pathlib.Path(PATH_CONFIGS).iterdir():\n",
    "    if config.is_dir():\n",
    "        continue\n",
    "    basename_no_ext = os.path.basename(config)[:-3]\n",
    "    checkpoint = os.path.join(PATH_WORKDIRS, basename_no_ext, 'epoch_72.pth')\n",
    "    if not os.path.exists(checkpoint):\n",
    "        continue\n",
    "    list_models.append((config, checkpoint))\n",
    "\n",
    "print(f'Found {len(list_models)} trained models')"
   ]
  },
  {
   "cell_type": "code",
   "execution_count": 4,
   "metadata": {},
   "outputs": [
    {
     "name": "stdout",
     "output_type": "stream",
     "text": [
      "/home/jose/Programas/OCDDataset/mmrotate-1.x\n"
     ]
    }
   ],
   "source": [
    "%cd /home/jose/Programas/OCDDataset/mmrotate-1.x"
   ]
  },
  {
   "cell_type": "markdown",
   "metadata": {},
   "source": [
    "Load Ground Truth bounding boxes into a dataframe"
   ]
  },
  {
   "cell_type": "code",
   "execution_count": 5,
   "metadata": {},
   "outputs": [
    {
     "data": {
      "text/html": [
       "<div>\n",
       "<style scoped>\n",
       "    .dataframe tbody tr th:only-of-type {\n",
       "        vertical-align: middle;\n",
       "    }\n",
       "\n",
       "    .dataframe tbody tr th {\n",
       "        vertical-align: top;\n",
       "    }\n",
       "\n",
       "    .dataframe thead th {\n",
       "        text-align: right;\n",
       "    }\n",
       "</style>\n",
       "<table border=\"1\" class=\"dataframe\">\n",
       "  <thead>\n",
       "    <tr style=\"text-align: right;\">\n",
       "      <th></th>\n",
       "      <th>file_name</th>\n",
       "      <th>evaluator</th>\n",
       "      <th>cx</th>\n",
       "      <th>cy</th>\n",
       "      <th>width</th>\n",
       "      <th>height</th>\n",
       "      <th>angle</th>\n",
       "      <th>detection_threshold</th>\n",
       "    </tr>\n",
       "  </thead>\n",
       "  <tbody>\n",
       "    <tr>\n",
       "      <th>0</th>\n",
       "      <td>exp_M4_Mauricio_mcr5_frame_40</td>\n",
       "      <td>ground-truth</td>\n",
       "      <td>29.500000</td>\n",
       "      <td>247.000000</td>\n",
       "      <td>96.000000</td>\n",
       "      <td>59.000000</td>\n",
       "      <td>1.570796</td>\n",
       "      <td>1.0</td>\n",
       "    </tr>\n",
       "    <tr>\n",
       "      <th>1</th>\n",
       "      <td>exp_M4_Mauricio_mcr5_frame_40</td>\n",
       "      <td>ground-truth</td>\n",
       "      <td>104.396538</td>\n",
       "      <td>581.258667</td>\n",
       "      <td>122.377594</td>\n",
       "      <td>83.773506</td>\n",
       "      <td>1.165905</td>\n",
       "      <td>1.0</td>\n",
       "    </tr>\n",
       "    <tr>\n",
       "      <th>2</th>\n",
       "      <td>exp_M4_Mauricio_mcr5_frame_40</td>\n",
       "      <td>ground-truth</td>\n",
       "      <td>196.551376</td>\n",
       "      <td>641.218079</td>\n",
       "      <td>88.093498</td>\n",
       "      <td>149.375366</td>\n",
       "      <td>1.098167</td>\n",
       "      <td>1.0</td>\n",
       "    </tr>\n",
       "    <tr>\n",
       "      <th>3</th>\n",
       "      <td>exp_M4_Mauricio_mcr5_frame_40</td>\n",
       "      <td>ground-truth</td>\n",
       "      <td>399.000061</td>\n",
       "      <td>710.000061</td>\n",
       "      <td>143.676727</td>\n",
       "      <td>108.300522</td>\n",
       "      <td>0.501013</td>\n",
       "      <td>1.0</td>\n",
       "    </tr>\n",
       "    <tr>\n",
       "      <th>4</th>\n",
       "      <td>exp_M4_Mauricio_mcr5_frame_40</td>\n",
       "      <td>ground-truth</td>\n",
       "      <td>233.978607</td>\n",
       "      <td>826.720154</td>\n",
       "      <td>88.457916</td>\n",
       "      <td>144.678955</td>\n",
       "      <td>0.096918</td>\n",
       "      <td>1.0</td>\n",
       "    </tr>\n",
       "    <tr>\n",
       "      <th>...</th>\n",
       "      <td>...</td>\n",
       "      <td>...</td>\n",
       "      <td>...</td>\n",
       "      <td>...</td>\n",
       "      <td>...</td>\n",
       "      <td>...</td>\n",
       "      <td>...</td>\n",
       "      <td>...</td>\n",
       "    </tr>\n",
       "    <tr>\n",
       "      <th>83</th>\n",
       "      <td>exp_L1.4_Luana_A172_cloneF9(mito)+H2B_TMZ3hora...</td>\n",
       "      <td>ground-truth</td>\n",
       "      <td>422.000000</td>\n",
       "      <td>701.000000</td>\n",
       "      <td>46.076443</td>\n",
       "      <td>21.839451</td>\n",
       "      <td>0.287281</td>\n",
       "      <td>1.0</td>\n",
       "    </tr>\n",
       "    <tr>\n",
       "      <th>84</th>\n",
       "      <td>exp_L1.4_Luana_A172_cloneF9(mito)+H2B_TMZ3hora...</td>\n",
       "      <td>ground-truth</td>\n",
       "      <td>946.000000</td>\n",
       "      <td>179.000000</td>\n",
       "      <td>20.000000</td>\n",
       "      <td>22.000000</td>\n",
       "      <td>1.570796</td>\n",
       "      <td>1.0</td>\n",
       "    </tr>\n",
       "    <tr>\n",
       "      <th>85</th>\n",
       "      <td>exp_L1.4_Luana_A172_cloneF9(mito)+H2B_TMZ3hora...</td>\n",
       "      <td>ground-truth</td>\n",
       "      <td>50.000004</td>\n",
       "      <td>481.999969</td>\n",
       "      <td>161.664383</td>\n",
       "      <td>96.044884</td>\n",
       "      <td>1.545957</td>\n",
       "      <td>1.0</td>\n",
       "    </tr>\n",
       "    <tr>\n",
       "      <th>86</th>\n",
       "      <td>exp_L1.4_Luana_A172_cloneF9(mito)+H2B_TMZ3hora...</td>\n",
       "      <td>ground-truth</td>\n",
       "      <td>910.000000</td>\n",
       "      <td>436.500000</td>\n",
       "      <td>127.000000</td>\n",
       "      <td>96.000000</td>\n",
       "      <td>1.570796</td>\n",
       "      <td>1.0</td>\n",
       "    </tr>\n",
       "    <tr>\n",
       "      <th>87</th>\n",
       "      <td>exp_L1.4_Luana_A172_cloneF9(mito)+H2B_TMZ3hora...</td>\n",
       "      <td>ground-truth</td>\n",
       "      <td>789.500061</td>\n",
       "      <td>633.500061</td>\n",
       "      <td>42.911274</td>\n",
       "      <td>20.214401</td>\n",
       "      <td>0.118490</td>\n",
       "      <td>1.0</td>\n",
       "    </tr>\n",
       "  </tbody>\n",
       "</table>\n",
       "<p>992 rows × 8 columns</p>\n",
       "</div>"
      ],
      "text/plain": [
       "                                            file_name     evaluator  \\\n",
       "0                       exp_M4_Mauricio_mcr5_frame_40  ground-truth   \n",
       "1                       exp_M4_Mauricio_mcr5_frame_40  ground-truth   \n",
       "2                       exp_M4_Mauricio_mcr5_frame_40  ground-truth   \n",
       "3                       exp_M4_Mauricio_mcr5_frame_40  ground-truth   \n",
       "4                       exp_M4_Mauricio_mcr5_frame_40  ground-truth   \n",
       "..                                                ...           ...   \n",
       "83  exp_L1.4_Luana_A172_cloneF9(mito)+H2B_TMZ3hora...  ground-truth   \n",
       "84  exp_L1.4_Luana_A172_cloneF9(mito)+H2B_TMZ3hora...  ground-truth   \n",
       "85  exp_L1.4_Luana_A172_cloneF9(mito)+H2B_TMZ3hora...  ground-truth   \n",
       "86  exp_L1.4_Luana_A172_cloneF9(mito)+H2B_TMZ3hora...  ground-truth   \n",
       "87  exp_L1.4_Luana_A172_cloneF9(mito)+H2B_TMZ3hora...  ground-truth   \n",
       "\n",
       "            cx          cy       width      height     angle  \\\n",
       "0    29.500000  247.000000   96.000000   59.000000  1.570796   \n",
       "1   104.396538  581.258667  122.377594   83.773506  1.165905   \n",
       "2   196.551376  641.218079   88.093498  149.375366  1.098167   \n",
       "3   399.000061  710.000061  143.676727  108.300522  0.501013   \n",
       "4   233.978607  826.720154   88.457916  144.678955  0.096918   \n",
       "..         ...         ...         ...         ...       ...   \n",
       "83  422.000000  701.000000   46.076443   21.839451  0.287281   \n",
       "84  946.000000  179.000000   20.000000   22.000000  1.570796   \n",
       "85   50.000004  481.999969  161.664383   96.044884  1.545957   \n",
       "86  910.000000  436.500000  127.000000   96.000000  1.570796   \n",
       "87  789.500061  633.500061   42.911274   20.214401  0.118490   \n",
       "\n",
       "    detection_threshold  \n",
       "0                   1.0  \n",
       "1                   1.0  \n",
       "2                   1.0  \n",
       "3                   1.0  \n",
       "4                   1.0  \n",
       "..                  ...  \n",
       "83                  1.0  \n",
       "84                  1.0  \n",
       "85                  1.0  \n",
       "86                  1.0  \n",
       "87                  1.0  \n",
       "\n",
       "[992 rows x 8 columns]"
      ]
     },
     "execution_count": 5,
     "metadata": {},
     "output_type": "execute_result"
    }
   ],
   "source": [
    "\n",
    "\n",
    "config, _ = list_models[0]\n",
    "cfg = Config.fromfile(config)\n",
    "register_all_modules()\n",
    "dataset = DATASETS.build(cfg.test_dataloader.dataset)\n",
    "\n",
    "df_gt = []\n",
    "for item in dataset:\n",
    "    data_samples = item['data_samples']\n",
    "    img_id = data_samples.img_id\n",
    "    bboxes = data_samples.gt_instances.bboxes.tensor\n",
    "    df = pd.DataFrame(bboxes, columns=['cx', 'cy', 'width', 'height', 'angle'])\n",
    "    df.insert(0, 'evaluator', 'ground-truth')\n",
    "    df.insert(0, 'file_name', img_id)\n",
    "    df['detection_threshold'] = 1.0\n",
    "    df_gt.append(df)\n",
    "\n",
    "df_gt = pd.concat(df_gt)\n",
    "df_gt\n"
   ]
  },
  {
   "cell_type": "markdown",
   "metadata": {},
   "source": [
    "Get results for each model"
   ]
  },
  {
   "cell_type": "code",
   "execution_count": 6,
   "metadata": {},
   "outputs": [
    {
     "name": "stdout",
     "output_type": "stream",
     "text": [
      "Evaluating /home/jose/Programas/OCDDataset/mmrotate-1.x/configs/OCD-Cropped/rotated-fcos-le90_r50_fpn_rr_1x_ocd-cropped.py\n",
      "Loads checkpoint by local backend from path: /home/jose/Programas/OCDDataset/mmrotate-1.x/work_dirs/rotated-fcos-le90_r50_fpn_rr_1x_ocd-cropped/epoch_72.pth\n"
     ]
    },
    {
     "name": "stderr",
     "output_type": "stream",
     "text": [
      "/home/jose/miniconda3/envs/OCD/lib/python3.8/site-packages/mmengine/visualization/visualizer.py:196: UserWarning: Failed to add <class 'mmengine.visualization.vis_backend.LocalVisBackend'>, please provide the `save_dir` argument.\n",
      "  warnings.warn(f'Failed to add {vis_backend.__class__}, '\n"
     ]
    },
    {
     "name": "stdout",
     "output_type": "stream",
     "text": [
      "\tOutputs will be stored at /home/jose/Programas/OCDDataset/mmrotate-1.x/detection_outputs/rotated-fcos-le90_r50_fpn_rr_1x_ocd-cropped\n",
      "\tUsing score threshold=0.5\n"
     ]
    },
    {
     "name": "stderr",
     "output_type": "stream",
     "text": [
      "  0%|          | 0/30 [00:00<?, ?it/s]/home/jose/miniconda3/envs/OCD/lib/python3.8/site-packages/torch/functional.py:568: UserWarning: torch.meshgrid: in an upcoming release, it will be required to pass the indexing argument. (Triggered internally at  /opt/conda/conda-bld/pytorch_1646755903507/work/aten/src/ATen/native/TensorShape.cpp:2228.)\n",
      "  return _VF.meshgrid(tensors, **kwargs)  # type: ignore[attr-defined]\n",
      "/home/jose/miniconda3/envs/OCD/lib/python3.8/site-packages/mmdet/visualization/palette.py:90: UserWarning: __floordiv__ is deprecated, and its behavior will change in a future version of pytorch. It currently rounds toward 0 (like the 'trunc' function NOT 'floor'). This results in incorrect rounding for negative values. To keep the current behavior, use torch.div(a, b, rounding_mode='trunc'), or for actual floor division, use torch.div(a, b, rounding_mode='floor').\n",
      "  scales = 0.5 + (areas - min_area) // (max_area - min_area)\n",
      " 10%|█         | 3/30 [00:02<00:17,  1.54it/s]/home/jose/miniconda3/envs/OCD/lib/python3.8/site-packages/mmengine/visualization/visualizer.py:831: UserWarning: Warning: The polygon is out of bounds, the drawn polygon may not be in the image\n",
      "  warnings.warn(\n",
      "100%|██████████| 30/30 [00:11<00:00,  2.52it/s]\n"
     ]
    },
    {
     "name": "stdout",
     "output_type": "stream",
     "text": [
      "Evaluating /home/jose/Programas/OCDDataset/mmrotate-1.x/configs/OCD-Cropped/redet-le90_re50_refpn_rr_1x_ocd-cropped.py\n",
      "Please install e2cnn by \"pip install -e git+https://github.com/QUVA-Lab/e2cnn.git#egg=e2cnn\"\n",
      "-------------------------- Failed! --------------------------\n",
      "Evaluating /home/jose/Programas/OCDDataset/mmrotate-1.x/configs/OCD-Cropped/rotated-retinanet-rbox-le90_r50_fpn_rr_1x_ocd-cropped.py\n",
      "Loads checkpoint by local backend from path: /home/jose/Programas/OCDDataset/mmrotate-1.x/work_dirs/rotated-retinanet-rbox-le90_r50_fpn_rr_1x_ocd-cropped/epoch_72.pth\n"
     ]
    },
    {
     "name": "stderr",
     "output_type": "stream",
     "text": [
      "/home/jose/miniconda3/envs/OCD/lib/python3.8/site-packages/mmengine/utils/manager.py:113: UserWarning: <class 'mmrotate.visualization.local_visualizer.RotLocalVisualizer'> instance named of visualizer has been created, the method `get_instance` should not accept any other arguments\n",
      "  warnings.warn(\n"
     ]
    },
    {
     "name": "stdout",
     "output_type": "stream",
     "text": [
      "\tOutputs will be stored at /home/jose/Programas/OCDDataset/mmrotate-1.x/detection_outputs/rotated-retinanet-rbox-le90_r50_fpn_rr_1x_ocd-cropped\n",
      "\tUsing score threshold=0.5\n"
     ]
    },
    {
     "name": "stderr",
     "output_type": "stream",
     "text": [
      "100%|██████████| 30/30 [00:11<00:00,  2.70it/s]\n"
     ]
    },
    {
     "name": "stdout",
     "output_type": "stream",
     "text": [
      "Evaluating /home/jose/Programas/OCDDataset/mmrotate-1.x/configs/OCD-Cropped/rotated-retinanet-rbox-le90_r50_fpn_rr_kld-stable_1x_ocd-cropped.py\n",
      "Loads checkpoint by local backend from path: /home/jose/Programas/OCDDataset/mmrotate-1.x/work_dirs/rotated-retinanet-rbox-le90_r50_fpn_rr_kld-stable_1x_ocd-cropped/epoch_72.pth\n",
      "\tOutputs will be stored at /home/jose/Programas/OCDDataset/mmrotate-1.x/detection_outputs/rotated-retinanet-rbox-le90_r50_fpn_rr_kld-stable_1x_ocd-cropped\n",
      "\tUsing score threshold=0.5\n"
     ]
    },
    {
     "name": "stderr",
     "output_type": "stream",
     "text": [
      "100%|██████████| 30/30 [00:11<00:00,  2.69it/s]\n"
     ]
    },
    {
     "name": "stdout",
     "output_type": "stream",
     "text": [
      "Evaluating /home/jose/Programas/OCDDataset/mmrotate-1.x/configs/OCD-Cropped/r3det-oc_r50_fpn_rr_kld-stable_1x_ocd-cropped.py\n",
      "Loads checkpoint by local backend from path: /home/jose/Programas/OCDDataset/mmrotate-1.x/work_dirs/r3det-oc_r50_fpn_rr_kld-stable_1x_ocd-cropped/epoch_72.pth\n",
      "\tOutputs will be stored at /home/jose/Programas/OCDDataset/mmrotate-1.x/detection_outputs/r3det-oc_r50_fpn_rr_kld-stable_1x_ocd-cropped\n",
      "\tUsing score threshold=0.5\n"
     ]
    },
    {
     "name": "stderr",
     "output_type": "stream",
     "text": [
      "  0%|          | 0/30 [00:00<?, ?it/s]/home/jose/miniconda3/envs/OCD/lib/python3.8/site-packages/mmdet/models/dense_heads/anchor_head.py:108: UserWarning: DeprecationWarning: `num_anchors` is deprecated, for consistency or also use `num_base_priors` instead\n",
      "  warnings.warn('DeprecationWarning: `num_anchors` is deprecated, '\n",
      "100%|██████████| 30/30 [00:12<00:00,  2.50it/s]\n"
     ]
    },
    {
     "name": "stdout",
     "output_type": "stream",
     "text": [
      "Evaluating /home/jose/Programas/OCDDataset/mmrotate-1.x/configs/OCD-Cropped/oriented-reppoints-qbox_r50_fpn_1x_ocd-cropped.py\n",
      "Loads checkpoint by local backend from path: /home/jose/Programas/OCDDataset/mmrotate-1.x/work_dirs/oriented-reppoints-qbox_r50_fpn_1x_ocd-cropped/epoch_72.pth\n",
      "\tOutputs will be stored at /home/jose/Programas/OCDDataset/mmrotate-1.x/detection_outputs/oriented-reppoints-qbox_r50_fpn_1x_ocd-cropped\n",
      "\tUsing score threshold=0.5\n"
     ]
    },
    {
     "name": "stderr",
     "output_type": "stream",
     "text": [
      "100%|██████████| 30/30 [00:11<00:00,  2.61it/s]\n"
     ]
    },
    {
     "name": "stdout",
     "output_type": "stream",
     "text": [
      "Evaluating /home/jose/Programas/OCDDataset/mmrotate-1.x/configs/OCD-Cropped/oriented-rcnn-le90_r50_fpn_rr_1x_ocd-cropped.py\n",
      "Loads checkpoint by local backend from path: /home/jose/Programas/OCDDataset/mmrotate-1.x/work_dirs/oriented-rcnn-le90_r50_fpn_rr_1x_ocd-cropped/epoch_72.pth\n",
      "\tOutputs will be stored at /home/jose/Programas/OCDDataset/mmrotate-1.x/detection_outputs/oriented-rcnn-le90_r50_fpn_rr_1x_ocd-cropped\n",
      "\tUsing score threshold=0.5\n"
     ]
    },
    {
     "name": "stderr",
     "output_type": "stream",
     "text": [
      "100%|██████████| 30/30 [00:13<00:00,  2.15it/s]\n"
     ]
    },
    {
     "name": "stdout",
     "output_type": "stream",
     "text": [
      "Evaluating /home/jose/Programas/OCDDataset/mmrotate-1.x/configs/OCD-Cropped/rotated-retinanet-rbox-le90_r50_fpn_rr_gwd_1x_ocd-cropped.py\n",
      "Loads checkpoint by local backend from path: /home/jose/Programas/OCDDataset/mmrotate-1.x/work_dirs/rotated-retinanet-rbox-le90_r50_fpn_rr_gwd_1x_ocd-cropped/epoch_72.pth\n",
      "\tOutputs will be stored at /home/jose/Programas/OCDDataset/mmrotate-1.x/detection_outputs/rotated-retinanet-rbox-le90_r50_fpn_rr_gwd_1x_ocd-cropped\n",
      "\tUsing score threshold=0.5\n"
     ]
    },
    {
     "name": "stderr",
     "output_type": "stream",
     "text": [
      "100%|██████████| 30/30 [00:11<00:00,  2.69it/s]\n"
     ]
    },
    {
     "name": "stdout",
     "output_type": "stream",
     "text": [
      "Evaluating /home/jose/Programas/OCDDataset/mmrotate-1.x/configs/OCD-Cropped/r3det-oc_r50_fpn_rr_1x_ocd-cropped.py\n",
      "Loads checkpoint by local backend from path: /home/jose/Programas/OCDDataset/mmrotate-1.x/work_dirs/r3det-oc_r50_fpn_rr_1x_ocd-cropped/epoch_72.pth\n",
      "\tOutputs will be stored at /home/jose/Programas/OCDDataset/mmrotate-1.x/detection_outputs/r3det-oc_r50_fpn_rr_1x_ocd-cropped\n",
      "\tUsing score threshold=0.5\n"
     ]
    },
    {
     "name": "stderr",
     "output_type": "stream",
     "text": [
      "100%|██████████| 30/30 [00:11<00:00,  2.53it/s]\n"
     ]
    },
    {
     "name": "stdout",
     "output_type": "stream",
     "text": [
      "Evaluating /home/jose/Programas/OCDDataset/mmrotate-1.x/configs/OCD-Cropped/roi-trans-le90_r50_fpn_rr_1x_ocd-cropped.py\n",
      "Loads checkpoint by local backend from path: /home/jose/Programas/OCDDataset/mmrotate-1.x/work_dirs/roi-trans-le90_r50_fpn_rr_1x_ocd-cropped/epoch_72.pth\n",
      "\tOutputs will be stored at /home/jose/Programas/OCDDataset/mmrotate-1.x/detection_outputs/roi-trans-le90_r50_fpn_rr_1x_ocd-cropped\n",
      "\tUsing score threshold=0.5\n"
     ]
    },
    {
     "name": "stderr",
     "output_type": "stream",
     "text": [
      "100%|██████████| 30/30 [00:15<00:00,  1.88it/s]\n"
     ]
    },
    {
     "name": "stdout",
     "output_type": "stream",
     "text": [
      "Evaluating /home/jose/Programas/OCDDataset/mmrotate-1.x/configs/OCD-Cropped/r3det-oc_r50_fpn_rr_probiou_1x_ocd-cropped.py\n",
      "Loads checkpoint by local backend from path: /home/jose/Programas/OCDDataset/mmrotate-1.x/work_dirs/r3det-oc_r50_fpn_rr_probiou_1x_ocd-cropped/epoch_72.pth\n",
      "\tOutputs will be stored at /home/jose/Programas/OCDDataset/mmrotate-1.x/detection_outputs/r3det-oc_r50_fpn_rr_probiou_1x_ocd-cropped\n",
      "\tUsing score threshold=0.5\n"
     ]
    },
    {
     "name": "stderr",
     "output_type": "stream",
     "text": [
      "100%|██████████| 30/30 [00:11<00:00,  2.50it/s]\n"
     ]
    },
    {
     "name": "stdout",
     "output_type": "stream",
     "text": [
      "Evaluating /home/jose/Programas/OCDDataset/mmrotate-1.x/configs/OCD-Cropped/s2anet-le90_r50_fpn_rr_1x_ocd-cropped.py\n",
      "Loads checkpoint by local backend from path: /home/jose/Programas/OCDDataset/mmrotate-1.x/work_dirs/s2anet-le90_r50_fpn_rr_1x_ocd-cropped/epoch_72.pth\n",
      "\tOutputs will be stored at /home/jose/Programas/OCDDataset/mmrotate-1.x/detection_outputs/s2anet-le90_r50_fpn_rr_1x_ocd-cropped\n",
      "\tUsing score threshold=0.5\n"
     ]
    },
    {
     "name": "stderr",
     "output_type": "stream",
     "text": [
      "  0%|          | 0/30 [00:00<?, ?it/s]/home/jose/miniconda3/envs/OCD/lib/python3.8/site-packages/mmdet/models/dense_heads/anchor_head.py:115: UserWarning: DeprecationWarning: anchor_generator is deprecated, please use \"prior_generator\" instead\n",
      "  warnings.warn('DeprecationWarning: anchor_generator is deprecated, '\n",
      "100%|██████████| 30/30 [00:11<00:00,  2.54it/s]\n"
     ]
    },
    {
     "name": "stdout",
     "output_type": "stream",
     "text": [
      "Evaluating /home/jose/Programas/OCDDataset/mmrotate-1.x/configs/OCD-Cropped/rotated-retinanet-rbox-le90_r50_fpn_rr_probiou_1x_ocd-cropped.py\n",
      "Loads checkpoint by local backend from path: /home/jose/Programas/OCDDataset/mmrotate-1.x/work_dirs/rotated-retinanet-rbox-le90_r50_fpn_rr_probiou_1x_ocd-cropped/epoch_72.pth\n",
      "\tOutputs will be stored at /home/jose/Programas/OCDDataset/mmrotate-1.x/detection_outputs/rotated-retinanet-rbox-le90_r50_fpn_rr_probiou_1x_ocd-cropped\n",
      "\tUsing score threshold=0.5\n"
     ]
    },
    {
     "name": "stderr",
     "output_type": "stream",
     "text": [
      "100%|██████████| 30/30 [00:11<00:00,  2.70it/s]\n"
     ]
    }
   ],
   "source": [
    "results = []\n",
    "list_images = [os.path.join(PATH_IMAGES, s) + '.png' for s in df_gt['file_name'].unique()]\n",
    "\n",
    "for config_file, checkpoint in list_models:\n",
    "    print(f'Evaluating {config_file}')\n",
    "    try:\n",
    "        model = init_detector(config_file, checkpoint).to('cuda:0')\n",
    "\n",
    "        model_name = os.path.basename(config_file)[:-3]\n",
    "        out_dir = os.path.join(PATH_OUTPUTS, model_name)\n",
    "        score_threshold = 0.5\n",
    "        \n",
    "        print(f'\\tOutputs will be stored at {out_dir}')\n",
    "        print(f'\\tUsing score threshold={score_threshold}')\n",
    "\n",
    "        visualizer = VISUALIZERS.build(model.cfg.visualizer)\n",
    "        visualizer.dataset_meta = model.dataset_meta\n",
    "\n",
    "        for image in tqdm(list_images):\n",
    "            image_basename = os.path.basename(image)\n",
    "            out_file = os.path.join(out_dir, image_basename)\n",
    "\n",
    "            result = inference_detector(model, image)\n",
    "            \n",
    "            # Add detection results\n",
    "            results.append((model_name, result))\n",
    "            \n",
    "            # Create visual output\n",
    "            img = mmcv.imread(image)\n",
    "            img = mmcv.imconvert(img, 'bgr', 'rgb')\n",
    "            visualizer.add_datasample(\n",
    "                'result',\n",
    "                img,\n",
    "                data_sample=result,\n",
    "                draw_gt=False,\n",
    "                show=False,\n",
    "                wait_time=0,\n",
    "                out_file=out_file,\n",
    "                pred_score_thr=score_threshold)\n",
    "    except Exception as e:\n",
    "        print(e)\n",
    "        print('-------------------------- Failed! --------------------------')"
   ]
  },
  {
   "cell_type": "markdown",
   "metadata": {},
   "source": [
    "### Dataframes"
   ]
  },
  {
   "cell_type": "markdown",
   "metadata": {},
   "source": [
    "Add model detections on test set to a dataframe"
   ]
  },
  {
   "cell_type": "code",
   "execution_count": 7,
   "metadata": {},
   "outputs": [
    {
     "data": {
      "text/html": [
       "<div>\n",
       "<style scoped>\n",
       "    .dataframe tbody tr th:only-of-type {\n",
       "        vertical-align: middle;\n",
       "    }\n",
       "\n",
       "    .dataframe tbody tr th {\n",
       "        vertical-align: top;\n",
       "    }\n",
       "\n",
       "    .dataframe thead th {\n",
       "        text-align: right;\n",
       "    }\n",
       "</style>\n",
       "<table border=\"1\" class=\"dataframe\">\n",
       "  <thead>\n",
       "    <tr style=\"text-align: right;\">\n",
       "      <th></th>\n",
       "      <th>file_name</th>\n",
       "      <th>evaluator</th>\n",
       "      <th>cx</th>\n",
       "      <th>cy</th>\n",
       "      <th>width</th>\n",
       "      <th>height</th>\n",
       "      <th>angle</th>\n",
       "      <th>detection_threshold</th>\n",
       "    </tr>\n",
       "  </thead>\n",
       "  <tbody>\n",
       "    <tr>\n",
       "      <th>0</th>\n",
       "      <td>exp_M4_Mauricio_mcr5_frame_40</td>\n",
       "      <td>rotated-fcos-le90_r50_fpn_rr_1x_ocd-cropped</td>\n",
       "      <td>403.262085</td>\n",
       "      <td>709.815979</td>\n",
       "      <td>111.755920</td>\n",
       "      <td>153.955566</td>\n",
       "      <td>-1.070023</td>\n",
       "      <td>0.805208</td>\n",
       "    </tr>\n",
       "    <tr>\n",
       "      <th>1</th>\n",
       "      <td>exp_M4_Mauricio_mcr5_frame_40</td>\n",
       "      <td>rotated-fcos-le90_r50_fpn_rr_1x_ocd-cropped</td>\n",
       "      <td>645.640625</td>\n",
       "      <td>376.847473</td>\n",
       "      <td>167.312164</td>\n",
       "      <td>89.596298</td>\n",
       "      <td>1.524949</td>\n",
       "      <td>0.788907</td>\n",
       "    </tr>\n",
       "    <tr>\n",
       "      <th>2</th>\n",
       "      <td>exp_M4_Mauricio_mcr5_frame_40</td>\n",
       "      <td>rotated-fcos-le90_r50_fpn_rr_1x_ocd-cropped</td>\n",
       "      <td>804.467957</td>\n",
       "      <td>327.393524</td>\n",
       "      <td>115.130814</td>\n",
       "      <td>153.067535</td>\n",
       "      <td>-1.523921</td>\n",
       "      <td>0.761100</td>\n",
       "    </tr>\n",
       "    <tr>\n",
       "      <th>3</th>\n",
       "      <td>exp_M4_Mauricio_mcr5_frame_40</td>\n",
       "      <td>rotated-fcos-le90_r50_fpn_rr_1x_ocd-cropped</td>\n",
       "      <td>1232.214233</td>\n",
       "      <td>857.436157</td>\n",
       "      <td>74.738045</td>\n",
       "      <td>329.111389</td>\n",
       "      <td>-0.641095</td>\n",
       "      <td>0.695975</td>\n",
       "    </tr>\n",
       "    <tr>\n",
       "      <th>4</th>\n",
       "      <td>exp_M4_Mauricio_mcr5_frame_40</td>\n",
       "      <td>rotated-fcos-le90_r50_fpn_rr_1x_ocd-cropped</td>\n",
       "      <td>964.851746</td>\n",
       "      <td>630.443909</td>\n",
       "      <td>56.655586</td>\n",
       "      <td>63.850662</td>\n",
       "      <td>1.436237</td>\n",
       "      <td>0.694953</td>\n",
       "    </tr>\n",
       "    <tr>\n",
       "      <th>...</th>\n",
       "      <td>...</td>\n",
       "      <td>...</td>\n",
       "      <td>...</td>\n",
       "      <td>...</td>\n",
       "      <td>...</td>\n",
       "      <td>...</td>\n",
       "      <td>...</td>\n",
       "      <td>...</td>\n",
       "    </tr>\n",
       "    <tr>\n",
       "      <th>120</th>\n",
       "      <td>exp_L1.4_Luana_A172_cloneF9(mito)+H2B_TMZ3hora...</td>\n",
       "      <td>rotated-retinanet-rbox-le90_r50_fpn_rr_probiou...</td>\n",
       "      <td>690.166504</td>\n",
       "      <td>673.584778</td>\n",
       "      <td>75.219444</td>\n",
       "      <td>36.250626</td>\n",
       "      <td>-0.793936</td>\n",
       "      <td>0.069284</td>\n",
       "    </tr>\n",
       "    <tr>\n",
       "      <th>121</th>\n",
       "      <td>exp_L1.4_Luana_A172_cloneF9(mito)+H2B_TMZ3hora...</td>\n",
       "      <td>rotated-retinanet-rbox-le90_r50_fpn_rr_probiou...</td>\n",
       "      <td>1034.217285</td>\n",
       "      <td>541.377197</td>\n",
       "      <td>86.621796</td>\n",
       "      <td>35.250435</td>\n",
       "      <td>-0.941018</td>\n",
       "      <td>0.067595</td>\n",
       "    </tr>\n",
       "    <tr>\n",
       "      <th>122</th>\n",
       "      <td>exp_L1.4_Luana_A172_cloneF9(mito)+H2B_TMZ3hora...</td>\n",
       "      <td>rotated-retinanet-rbox-le90_r50_fpn_rr_probiou...</td>\n",
       "      <td>1265.207031</td>\n",
       "      <td>48.047562</td>\n",
       "      <td>107.209198</td>\n",
       "      <td>45.721748</td>\n",
       "      <td>-1.465166</td>\n",
       "      <td>0.065436</td>\n",
       "    </tr>\n",
       "    <tr>\n",
       "      <th>123</th>\n",
       "      <td>exp_L1.4_Luana_A172_cloneF9(mito)+H2B_TMZ3hora...</td>\n",
       "      <td>rotated-retinanet-rbox-le90_r50_fpn_rr_probiou...</td>\n",
       "      <td>609.134705</td>\n",
       "      <td>544.097412</td>\n",
       "      <td>87.784660</td>\n",
       "      <td>34.443340</td>\n",
       "      <td>-0.980694</td>\n",
       "      <td>0.065334</td>\n",
       "    </tr>\n",
       "    <tr>\n",
       "      <th>124</th>\n",
       "      <td>exp_L1.4_Luana_A172_cloneF9(mito)+H2B_TMZ3hora...</td>\n",
       "      <td>rotated-retinanet-rbox-le90_r50_fpn_rr_probiou...</td>\n",
       "      <td>607.275146</td>\n",
       "      <td>416.430328</td>\n",
       "      <td>71.434555</td>\n",
       "      <td>42.115238</td>\n",
       "      <td>-0.861077</td>\n",
       "      <td>0.065166</td>\n",
       "    </tr>\n",
       "  </tbody>\n",
       "</table>\n",
       "<p>20338 rows × 8 columns</p>\n",
       "</div>"
      ],
      "text/plain": [
       "                                             file_name  \\\n",
       "0                        exp_M4_Mauricio_mcr5_frame_40   \n",
       "1                        exp_M4_Mauricio_mcr5_frame_40   \n",
       "2                        exp_M4_Mauricio_mcr5_frame_40   \n",
       "3                        exp_M4_Mauricio_mcr5_frame_40   \n",
       "4                        exp_M4_Mauricio_mcr5_frame_40   \n",
       "..                                                 ...   \n",
       "120  exp_L1.4_Luana_A172_cloneF9(mito)+H2B_TMZ3hora...   \n",
       "121  exp_L1.4_Luana_A172_cloneF9(mito)+H2B_TMZ3hora...   \n",
       "122  exp_L1.4_Luana_A172_cloneF9(mito)+H2B_TMZ3hora...   \n",
       "123  exp_L1.4_Luana_A172_cloneF9(mito)+H2B_TMZ3hora...   \n",
       "124  exp_L1.4_Luana_A172_cloneF9(mito)+H2B_TMZ3hora...   \n",
       "\n",
       "                                             evaluator           cx  \\\n",
       "0          rotated-fcos-le90_r50_fpn_rr_1x_ocd-cropped   403.262085   \n",
       "1          rotated-fcos-le90_r50_fpn_rr_1x_ocd-cropped   645.640625   \n",
       "2          rotated-fcos-le90_r50_fpn_rr_1x_ocd-cropped   804.467957   \n",
       "3          rotated-fcos-le90_r50_fpn_rr_1x_ocd-cropped  1232.214233   \n",
       "4          rotated-fcos-le90_r50_fpn_rr_1x_ocd-cropped   964.851746   \n",
       "..                                                 ...          ...   \n",
       "120  rotated-retinanet-rbox-le90_r50_fpn_rr_probiou...   690.166504   \n",
       "121  rotated-retinanet-rbox-le90_r50_fpn_rr_probiou...  1034.217285   \n",
       "122  rotated-retinanet-rbox-le90_r50_fpn_rr_probiou...  1265.207031   \n",
       "123  rotated-retinanet-rbox-le90_r50_fpn_rr_probiou...   609.134705   \n",
       "124  rotated-retinanet-rbox-le90_r50_fpn_rr_probiou...   607.275146   \n",
       "\n",
       "             cy       width      height     angle  detection_threshold  \n",
       "0    709.815979  111.755920  153.955566 -1.070023             0.805208  \n",
       "1    376.847473  167.312164   89.596298  1.524949             0.788907  \n",
       "2    327.393524  115.130814  153.067535 -1.523921             0.761100  \n",
       "3    857.436157   74.738045  329.111389 -0.641095             0.695975  \n",
       "4    630.443909   56.655586   63.850662  1.436237             0.694953  \n",
       "..          ...         ...         ...       ...                  ...  \n",
       "120  673.584778   75.219444   36.250626 -0.793936             0.069284  \n",
       "121  541.377197   86.621796   35.250435 -0.941018             0.067595  \n",
       "122   48.047562  107.209198   45.721748 -1.465166             0.065436  \n",
       "123  544.097412   87.784660   34.443340 -0.980694             0.065334  \n",
       "124  416.430328   71.434555   42.115238 -0.861077             0.065166  \n",
       "\n",
       "[20338 rows x 8 columns]"
      ]
     },
     "execution_count": 7,
     "metadata": {},
     "output_type": "execute_result"
    }
   ],
   "source": [
    "preds_df = []\n",
    "gt_df = None\n",
    "# Get preds\n",
    "for (model, result) in results:\n",
    "    img = os.path.basename(result.img_path)[:-4]\n",
    "    \n",
    "    gt_bboxes = result.gt_instances\n",
    "    preds = result.pred_instances\n",
    "    preds_scores = torch.hstack([preds.bboxes, preds.scores.unsqueeze(-1)])\n",
    "    pred_df = pd.DataFrame(preds_scores.cpu().numpy(), columns=['cx','cy','width','height','angle','detection_threshold'])\n",
    "    pred_df.insert(0, 'evaluator', model)\n",
    "    pred_df.insert(0, 'file_name', img)\n",
    "    preds_df.append(pred_df)\n",
    "\n",
    "preds_df = pd.concat(preds_df)\n",
    "preds_df"
   ]
  },
  {
   "cell_type": "markdown",
   "metadata": {},
   "source": [
    "Create a consolidated dataframe with Ground Truth and predicted bounding boxes"
   ]
  },
  {
   "cell_type": "code",
   "execution_count": 8,
   "metadata": {},
   "outputs": [
    {
     "data": {
      "text/html": [
       "<div>\n",
       "<style scoped>\n",
       "    .dataframe tbody tr th:only-of-type {\n",
       "        vertical-align: middle;\n",
       "    }\n",
       "\n",
       "    .dataframe tbody tr th {\n",
       "        vertical-align: top;\n",
       "    }\n",
       "\n",
       "    .dataframe thead th {\n",
       "        text-align: right;\n",
       "    }\n",
       "</style>\n",
       "<table border=\"1\" class=\"dataframe\">\n",
       "  <thead>\n",
       "    <tr style=\"text-align: right;\">\n",
       "      <th></th>\n",
       "      <th>file_name</th>\n",
       "      <th>evaluator</th>\n",
       "      <th>cx</th>\n",
       "      <th>cy</th>\n",
       "      <th>width</th>\n",
       "      <th>height</th>\n",
       "      <th>angle</th>\n",
       "      <th>detection_threshold</th>\n",
       "      <th>type</th>\n",
       "    </tr>\n",
       "  </thead>\n",
       "  <tbody>\n",
       "    <tr>\n",
       "      <th>0</th>\n",
       "      <td>exp_M4_Mauricio_mcr5_frame_40</td>\n",
       "      <td>ground-truth</td>\n",
       "      <td>29.500000</td>\n",
       "      <td>247.000000</td>\n",
       "      <td>96.000000</td>\n",
       "      <td>59.000000</td>\n",
       "      <td>1.570796</td>\n",
       "      <td>1.000000</td>\n",
       "      <td>test</td>\n",
       "    </tr>\n",
       "    <tr>\n",
       "      <th>1</th>\n",
       "      <td>exp_M4_Mauricio_mcr5_frame_40</td>\n",
       "      <td>ground-truth</td>\n",
       "      <td>104.396538</td>\n",
       "      <td>581.258667</td>\n",
       "      <td>122.377594</td>\n",
       "      <td>83.773506</td>\n",
       "      <td>1.165905</td>\n",
       "      <td>1.000000</td>\n",
       "      <td>test</td>\n",
       "    </tr>\n",
       "    <tr>\n",
       "      <th>2</th>\n",
       "      <td>exp_M4_Mauricio_mcr5_frame_40</td>\n",
       "      <td>ground-truth</td>\n",
       "      <td>196.551376</td>\n",
       "      <td>641.218079</td>\n",
       "      <td>88.093498</td>\n",
       "      <td>149.375366</td>\n",
       "      <td>1.098167</td>\n",
       "      <td>1.000000</td>\n",
       "      <td>test</td>\n",
       "    </tr>\n",
       "    <tr>\n",
       "      <th>3</th>\n",
       "      <td>exp_M4_Mauricio_mcr5_frame_40</td>\n",
       "      <td>ground-truth</td>\n",
       "      <td>399.000061</td>\n",
       "      <td>710.000061</td>\n",
       "      <td>143.676727</td>\n",
       "      <td>108.300522</td>\n",
       "      <td>0.501013</td>\n",
       "      <td>1.000000</td>\n",
       "      <td>test</td>\n",
       "    </tr>\n",
       "    <tr>\n",
       "      <th>4</th>\n",
       "      <td>exp_M4_Mauricio_mcr5_frame_40</td>\n",
       "      <td>ground-truth</td>\n",
       "      <td>233.978607</td>\n",
       "      <td>826.720154</td>\n",
       "      <td>88.457916</td>\n",
       "      <td>144.678955</td>\n",
       "      <td>0.096918</td>\n",
       "      <td>1.000000</td>\n",
       "      <td>test</td>\n",
       "    </tr>\n",
       "    <tr>\n",
       "      <th>...</th>\n",
       "      <td>...</td>\n",
       "      <td>...</td>\n",
       "      <td>...</td>\n",
       "      <td>...</td>\n",
       "      <td>...</td>\n",
       "      <td>...</td>\n",
       "      <td>...</td>\n",
       "      <td>...</td>\n",
       "      <td>...</td>\n",
       "    </tr>\n",
       "    <tr>\n",
       "      <th>120</th>\n",
       "      <td>exp_L1.4_Luana_A172_cloneF9(mito)+H2B_TMZ3hora...</td>\n",
       "      <td>rotated-retinanet-rbox-le90_r50_fpn_rr_probiou...</td>\n",
       "      <td>690.166504</td>\n",
       "      <td>673.584778</td>\n",
       "      <td>75.219444</td>\n",
       "      <td>36.250626</td>\n",
       "      <td>-0.793936</td>\n",
       "      <td>0.069284</td>\n",
       "      <td>test</td>\n",
       "    </tr>\n",
       "    <tr>\n",
       "      <th>121</th>\n",
       "      <td>exp_L1.4_Luana_A172_cloneF9(mito)+H2B_TMZ3hora...</td>\n",
       "      <td>rotated-retinanet-rbox-le90_r50_fpn_rr_probiou...</td>\n",
       "      <td>1034.217285</td>\n",
       "      <td>541.377197</td>\n",
       "      <td>86.621796</td>\n",
       "      <td>35.250435</td>\n",
       "      <td>-0.941018</td>\n",
       "      <td>0.067595</td>\n",
       "      <td>test</td>\n",
       "    </tr>\n",
       "    <tr>\n",
       "      <th>122</th>\n",
       "      <td>exp_L1.4_Luana_A172_cloneF9(mito)+H2B_TMZ3hora...</td>\n",
       "      <td>rotated-retinanet-rbox-le90_r50_fpn_rr_probiou...</td>\n",
       "      <td>1265.207031</td>\n",
       "      <td>48.047562</td>\n",
       "      <td>107.209198</td>\n",
       "      <td>45.721748</td>\n",
       "      <td>-1.465166</td>\n",
       "      <td>0.065436</td>\n",
       "      <td>test</td>\n",
       "    </tr>\n",
       "    <tr>\n",
       "      <th>123</th>\n",
       "      <td>exp_L1.4_Luana_A172_cloneF9(mito)+H2B_TMZ3hora...</td>\n",
       "      <td>rotated-retinanet-rbox-le90_r50_fpn_rr_probiou...</td>\n",
       "      <td>609.134705</td>\n",
       "      <td>544.097412</td>\n",
       "      <td>87.784660</td>\n",
       "      <td>34.443340</td>\n",
       "      <td>-0.980694</td>\n",
       "      <td>0.065334</td>\n",
       "      <td>test</td>\n",
       "    </tr>\n",
       "    <tr>\n",
       "      <th>124</th>\n",
       "      <td>exp_L1.4_Luana_A172_cloneF9(mito)+H2B_TMZ3hora...</td>\n",
       "      <td>rotated-retinanet-rbox-le90_r50_fpn_rr_probiou...</td>\n",
       "      <td>607.275146</td>\n",
       "      <td>416.430328</td>\n",
       "      <td>71.434555</td>\n",
       "      <td>42.115238</td>\n",
       "      <td>-0.861077</td>\n",
       "      <td>0.065166</td>\n",
       "      <td>test</td>\n",
       "    </tr>\n",
       "  </tbody>\n",
       "</table>\n",
       "<p>21330 rows × 9 columns</p>\n",
       "</div>"
      ],
      "text/plain": [
       "                                             file_name  \\\n",
       "0                        exp_M4_Mauricio_mcr5_frame_40   \n",
       "1                        exp_M4_Mauricio_mcr5_frame_40   \n",
       "2                        exp_M4_Mauricio_mcr5_frame_40   \n",
       "3                        exp_M4_Mauricio_mcr5_frame_40   \n",
       "4                        exp_M4_Mauricio_mcr5_frame_40   \n",
       "..                                                 ...   \n",
       "120  exp_L1.4_Luana_A172_cloneF9(mito)+H2B_TMZ3hora...   \n",
       "121  exp_L1.4_Luana_A172_cloneF9(mito)+H2B_TMZ3hora...   \n",
       "122  exp_L1.4_Luana_A172_cloneF9(mito)+H2B_TMZ3hora...   \n",
       "123  exp_L1.4_Luana_A172_cloneF9(mito)+H2B_TMZ3hora...   \n",
       "124  exp_L1.4_Luana_A172_cloneF9(mito)+H2B_TMZ3hora...   \n",
       "\n",
       "                                             evaluator           cx  \\\n",
       "0                                         ground-truth    29.500000   \n",
       "1                                         ground-truth   104.396538   \n",
       "2                                         ground-truth   196.551376   \n",
       "3                                         ground-truth   399.000061   \n",
       "4                                         ground-truth   233.978607   \n",
       "..                                                 ...          ...   \n",
       "120  rotated-retinanet-rbox-le90_r50_fpn_rr_probiou...   690.166504   \n",
       "121  rotated-retinanet-rbox-le90_r50_fpn_rr_probiou...  1034.217285   \n",
       "122  rotated-retinanet-rbox-le90_r50_fpn_rr_probiou...  1265.207031   \n",
       "123  rotated-retinanet-rbox-le90_r50_fpn_rr_probiou...   609.134705   \n",
       "124  rotated-retinanet-rbox-le90_r50_fpn_rr_probiou...   607.275146   \n",
       "\n",
       "             cy       width      height     angle  detection_threshold  type  \n",
       "0    247.000000   96.000000   59.000000  1.570796             1.000000  test  \n",
       "1    581.258667  122.377594   83.773506  1.165905             1.000000  test  \n",
       "2    641.218079   88.093498  149.375366  1.098167             1.000000  test  \n",
       "3    710.000061  143.676727  108.300522  0.501013             1.000000  test  \n",
       "4    826.720154   88.457916  144.678955  0.096918             1.000000  test  \n",
       "..          ...         ...         ...       ...                  ...   ...  \n",
       "120  673.584778   75.219444   36.250626 -0.793936             0.069284  test  \n",
       "121  541.377197   86.621796   35.250435 -0.941018             0.067595  test  \n",
       "122   48.047562  107.209198   45.721748 -1.465166             0.065436  test  \n",
       "123  544.097412   87.784660   34.443340 -0.980694             0.065334  test  \n",
       "124  416.430328   71.434555   42.115238 -0.861077             0.065166  test  \n",
       "\n",
       "[21330 rows x 9 columns]"
      ]
     },
     "execution_count": 8,
     "metadata": {},
     "output_type": "execute_result"
    }
   ],
   "source": [
    "consolidated_df = pd.concat([df_gt, preds_df])\n",
    "consolidated_df['type'] = 'test'\n",
    "consolidated_df.to_csv(os.path.join(PATH_OUTPUTS, 'consolidated_df.csv'), index=False)\n",
    "\n",
    "for evaluator_name, evaluator_group in consolidated_df.groupby('evaluator'):\n",
    "    assert len(evaluator_group['file_name'].unique()) == len(list_images)\n",
    "\n",
    "consolidated_df"
   ]
  }
 ],
 "metadata": {
  "kernelspec": {
   "display_name": "OCD",
   "language": "python",
   "name": "python3"
  },
  "language_info": {
   "codemirror_mode": {
    "name": "ipython",
    "version": 3
   },
   "file_extension": ".py",
   "mimetype": "text/x-python",
   "name": "python",
   "nbconvert_exporter": "python",
   "pygments_lexer": "ipython3",
   "version": "3.8.19"
  }
 },
 "nbformat": 4,
 "nbformat_minor": 2
}
